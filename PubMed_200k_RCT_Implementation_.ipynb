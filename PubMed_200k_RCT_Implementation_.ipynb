{
  "nbformat": 4,
  "nbformat_minor": 0,
  "metadata": {
    "colab": {
      "name": "PubMed_200k_RCT_Implementation .ipynb",
      "provenance": [],
      "machine_shape": "hm",
      "authorship_tag": "ABX9TyPehKSA4eLQ725LVioUoQBF",
      "include_colab_link": true
    },
    "kernelspec": {
      "name": "python3",
      "display_name": "Python 3"
    },
    "language_info": {
      "name": "python"
    },
    "accelerator": "GPU"
  },
  "cells": [
    {
      "cell_type": "markdown",
      "metadata": {
        "id": "view-in-github",
        "colab_type": "text"
      },
      "source": [
        "<a href=\"https://colab.research.google.com/github/ashikshafi08/PubMed_200k_RCT_Implementation/blob/main/PubMed_200k_RCT_Implementation_.ipynb\" target=\"_parent\"><img src=\"https://colab.research.google.com/assets/colab-badge.svg\" alt=\"Open In Colab\"/></a>"
      ]
    },
    {
      "cell_type": "markdown",
      "metadata": {
        "id": "9c43Y59xc5So"
      },
      "source": [
        "# PubMed 200k RCT Implementation \n",
        "\n",
        "In this notebook we will be replicating the deeplearning model behind the 2017 paper [PubMed 200k RCT: a Dataset for Sequenctial Sentence Classification in Medical Abstracts](https://arxiv.org/abs/1710.06071)\n",
        "\n",
        "\n",
        "**Whats the goal of this dataset ?**\n",
        "\n",
        "To explore the ability of NLP models to classify sentences which appear in sequential order. In other words, given the abstract of a RCT, what role does each sentence serve in the abstract?\n",
        "\n",
        ">Example inputs (harder to read abstract from PubMed) and outputs (easier to read abstract) of the model we're going to build. The model will take an abstract wall of text and predict the section label each sentence should have.\n",
        "\n",
        "#### **Model Input**\n",
        "\n",
        "For example, can we train an NLP model which takes the following input (note: the following sample has had all numerical symbols replaced with \"@\"):\n",
        "\n",
        "\n",
        "#### **Problem in a sentence**\n",
        "The number of RCT papers released is continuing to increase, those without structured abstracts can be hard to read and in turn slow down researchers moving through the literature.\n",
        "\n",
        "#### **Solution in a sentence**\n",
        "\n",
        "Create an NLP model to classify abstract sentences into the role they play (e.g. objective, methods, results, etc) to enable researchers to skim through the literature (hence SkimLit 🤓🔥) and dive deeper when necessary.\n"
      ]
    },
    {
      "cell_type": "markdown",
      "metadata": {
        "id": "KzQNZVvMm2c-"
      },
      "source": [
        "## Getting the data and preprocessing it! "
      ]
    },
    {
      "cell_type": "code",
      "metadata": {
        "colab": {
          "base_uri": "https://localhost:8080/"
        },
        "id": "bQnTSk4mpwJA",
        "outputId": "39d0747c-f6ee-4e4b-ff60-f33c4df79c7d"
      },
      "source": [
        "# Downloading the data \n",
        "!git clone https://github.com/Franck-Dernoncourt/pubmed-rct.git\n",
        "!ls pubmed-rct"
      ],
      "execution_count": 1,
      "outputs": [
        {
          "output_type": "stream",
          "text": [
            "Cloning into 'pubmed-rct'...\n",
            "remote: Enumerating objects: 33, done.\u001b[K\n",
            "remote: Counting objects: 100% (3/3), done.\u001b[K\n",
            "remote: Compressing objects: 100% (3/3), done.\u001b[K\n",
            "remote: Total 33 (delta 0), reused 0 (delta 0), pack-reused 30\u001b[K\n",
            "Unpacking objects: 100% (33/33), done.\n",
            "PubMed_200k_RCT\n",
            "PubMed_200k_RCT_numbers_replaced_with_at_sign\n",
            "PubMed_20k_RCT\n",
            "PubMed_20k_RCT_numbers_replaced_with_at_sign\n",
            "README.md\n"
          ],
          "name": "stdout"
        }
      ]
    },
    {
      "cell_type": "code",
      "metadata": {
        "colab": {
          "base_uri": "https://localhost:8080/"
        },
        "id": "3jaNz5USqDJw",
        "outputId": "f74f57be-4440-445d-cd61-10e577d36265"
      },
      "source": [
        "# Check what files are in the PubMed_200K dataset \n",
        "!ls pubmed-rct/PubMed_200k_RCT_numbers_replaced_with_at_sign"
      ],
      "execution_count": 2,
      "outputs": [
        {
          "output_type": "stream",
          "text": [
            "dev.txt  test.txt  train.zip\n"
          ],
          "name": "stdout"
        }
      ]
    },
    {
      "cell_type": "code",
      "metadata": {
        "colab": {
          "base_uri": "https://localhost:8080/"
        },
        "id": "EWlPOtkqqRm7",
        "outputId": "f0858641-b77f-471b-96e8-a2fd48a208b5"
      },
      "source": [
        "# Unzipping the train txt \n",
        "!unzip '/content/pubmed-rct/PubMed_200k_RCT_numbers_replaced_with_at_sign/train.zip'"
      ],
      "execution_count": 3,
      "outputs": [
        {
          "output_type": "stream",
          "text": [
            "Archive:  /content/pubmed-rct/PubMed_200k_RCT_numbers_replaced_with_at_sign/train.zip\n",
            "  inflating: train.txt               \n"
          ],
          "name": "stdout"
        }
      ]
    },
    {
      "cell_type": "code",
      "metadata": {
        "id": "PkyfADtFqaLU"
      },
      "source": [
        "# Getting the paths of the data \n",
        "train_path = 'train.txt'\n",
        "test_path = '/content/pubmed-rct/PubMed_200k_RCT_numbers_replaced_with_at_sign/test.txt'\n",
        "val_path = '/content/pubmed-rct/PubMed_200k_RCT_numbers_replaced_with_at_sign/dev.txt'"
      ],
      "execution_count": 4,
      "outputs": []
    },
    {
      "cell_type": "markdown",
      "metadata": {
        "id": "8Da92wvfsWkX"
      },
      "source": [
        "Our data is in the format of text files, will write some code to read each of the lines in a tttarget file. \n"
      ]
    },
    {
      "cell_type": "code",
      "metadata": {
        "id": "wdLFEDz3sggc"
      },
      "source": [
        "# Create function to read the lines of a document \n",
        "def get_lines(filename):\n",
        "  '''\n",
        "  Read filename (a text file) and returns the lines of text as a list. \n",
        "\n",
        "  Args: \n",
        "    filename : a string containing the target filepath to read \n",
        "\n",
        "  Returns:\n",
        "    A list of strings with one string per line from the target filename.\n",
        "  '''\n",
        "  with open(filename , 'r') as f:\n",
        "    return f.readlines()"
      ],
      "execution_count": 5,
      "outputs": []
    },
    {
      "cell_type": "code",
      "metadata": {
        "colab": {
          "base_uri": "https://localhost:8080/"
        },
        "id": "BMz7EYixs5rS",
        "outputId": "61bab4ef-da78-4546-8e8f-4170c67cd800"
      },
      "source": [
        "# Trying our function out \n",
        "train_lines = get_lines(train_path)\n",
        "\n",
        "# Example's of a abstract \n",
        "train_lines[:30]"
      ],
      "execution_count": 6,
      "outputs": [
        {
          "output_type": "execute_result",
          "data": {
            "text/plain": [
              "['###24491034\\n',\n",
              " 'BACKGROUND\\tThe emergence of HIV as a chronic condition means that people living with HIV are required to take more responsibility for the self-management of their condition , including making physical , emotional and social adjustments .\\n',\n",
              " 'BACKGROUND\\tThis paper describes the design and evaluation of Positive Outlook , an online program aiming to enhance the self-management skills of gay men living with HIV .\\n',\n",
              " 'METHODS\\tThis study is designed as a randomised controlled trial in which men living with HIV in Australia will be assigned to either an intervention group or usual care control group .\\n',\n",
              " \"METHODS\\tThe intervention group will participate in the online group program ` Positive Outlook ' .\\n\",\n",
              " 'METHODS\\tThe program is based on self-efficacy theory and uses a self-management approach to enhance skills , confidence and abilities to manage the psychosocial issues associated with HIV in daily life .\\n',\n",
              " 'METHODS\\tParticipants will access the program for a minimum of @ minutes per week over seven weeks .\\n',\n",
              " 'METHODS\\tPrimary outcomes are domain specific self-efficacy , HIV related quality of life , and outcomes of health education .\\n',\n",
              " 'METHODS\\tSecondary outcomes include : depression , anxiety and stress ; general health and quality of life ; adjustment to HIV ; and social support .\\n',\n",
              " 'METHODS\\tData collection will take place at baseline , completion of the intervention ( or eight weeks post randomisation ) and at @ week follow-up .\\n',\n",
              " 'CONCLUSIONS\\tResults of the Positive Outlook study will provide information regarding the effectiveness of online group programs improving health related outcomes for men living with HIV .\\n',\n",
              " 'BACKGROUND\\tACTRN@ .\\n',\n",
              " '\\n',\n",
              " '###20497432\\n',\n",
              " 'BACKGROUND\\tThe aim of this study was to evaluate the efficacy , safety and complications of orbital steroid injection versus oral steroid therapy in the management of thyroid-related ophthalmopathy .\\n',\n",
              " 'METHODS\\tA total of @ patients suffering from thyroid ophthalmopathy were included in this study .\\n',\n",
              " 'METHODS\\tPatients were randomized into two groups : group I included @ patients treated with oral prednisolone and group II included @ patients treated with peribulbar triamcinolone orbital injection .\\n',\n",
              " 'METHODS\\tOnly @ patients in both groups ( @ female and @ male ) completed the study .\\n',\n",
              " 'RESULTS\\tBoth groups showed improvement in symptoms and in clinical evidence of inflammation with improvement of eye movement and proptosis in most cases .\\n',\n",
              " 'RESULTS\\tMean exophthalmometry value before treatment was @ @ mm that decreased to @ @ mm in group I , compared with @ @ mm that decreased to @ @ mm in group II .\\n',\n",
              " 'RESULTS\\tMean initial clinical activity score was @ @ and @ @ for group I and group II before treatment , respectively , which dropped to @ @ and @ @ , @ months after treatment , respectively .\\n',\n",
              " 'RESULTS\\tThere was no change in the best-corrected visual acuity in both groups .\\n',\n",
              " 'RESULTS\\tThere was an increase in body weight , blood sugar , blood pressure and gastritis in group I in @ % , @ % , @ % and @ % , respectively , compared with @ % , @ % , @ % and @ % in group II .\\n',\n",
              " 'RESULTS\\tNo adverse local side effects were observed in group II .\\n',\n",
              " 'CONCLUSIONS\\tOrbital steroid injection for thyroid-related ophthalmopathy is effective and safe .\\n',\n",
              " 'CONCLUSIONS\\tIt eliminates the adverse reactions associated with oral corticosteroid use .\\n',\n",
              " '\\n',\n",
              " '###19062107\\n',\n",
              " 'OBJECTIVE\\tThe aim of this prospective randomized study was to examine whether active counseling and more liberal oral fluid intake decrease postoperative pain , nausea and vomiting in pediatric ambulatory tonsillectomy .\\n',\n",
              " 'METHODS\\tFamilies , whose child was admitted for ambulatory tonsillectomy or adenotonsillectomy , were randomly assigned to the study groups ( n = @ ; @ families in each group ) .\\n']"
            ]
          },
          "metadata": {
            "tags": []
          },
          "execution_count": 6
        }
      ]
    },
    {
      "cell_type": "markdown",
      "metadata": {
        "id": "KxdsQuesuUTX"
      },
      "source": [
        "Let's write a function to perform the following steps:\n",
        "\n",
        "- Take a target file of abstract samples.\n",
        "- Read the lines in the target file.\n",
        "- For each line in the target file:\n",
        "  - If the line begins with ### mark it as an abstract ID and the beginning of a new abstract.\n",
        "    - Keep count of the number of lines in a sample.\n",
        "  - If the line begins with \\n mark it as the end of an abstract sample.\n",
        "    - Keep count of the total lines in a sample.\n",
        "  - Record the text before the \\t as the label of the line.\n",
        "  - Record the text after the \\t as the text of the line.\n",
        "- Return all of the lines in the target text file as a list of dictionaries containing the key/value pairs:\n",
        "  - \"line_number\" - the position of the line in the abstract (e.g. 3).\n",
        "  - \"target\" - the role of the line in the abstract (e.g. OBJECTIVE).\n",
        "  - \"text\" - the text of the line in the abstract.\n",
        "  - \"total_lines\" - the total lines in an abstract sample (e.g. 14).\n",
        "- Abstract ID's and newlines should be omitted from the returned preprocessed data.\n",
        "\n",
        "\n",
        "Example returned preprocessed sample (a single line from an abstract):\n",
        "\n",
        "```\n",
        "[{'line_number': 0,\n",
        "  'target': 'OBJECTIVE',\n",
        "  'text': 'to investigate the efficacy of @ weeks of daily low-dose oral prednisolone in improving pain , mobility , and systemic low-grade inflammation in the short term and whether the effect would be sustained at @ weeks in older adults with moderate to severe knee osteoarthritis ( oa ) .',\n",
        "  'total_lines': 11},\n",
        "  ...]\n",
        "\n",
        "```\n",
        "\n",
        "\n",
        "\n"
      ]
    },
    {
      "cell_type": "code",
      "metadata": {
        "id": "gqOdDBacwKrZ"
      },
      "source": [
        "def preprocess_text_with_line_numbers(filename):\n",
        "  \"\"\"Returns a list of dictionaries of abstract line data.\n",
        "\n",
        "  Takes in filename, reads its contents and sorts through each line,\n",
        "  extracting things like the target label, the text of the sentence,\n",
        "  how many sentences are in the current abstract and what sentence number\n",
        "  the target line is.\n",
        "\n",
        "  Args:\n",
        "      filename: a string of the target text file to read and extract line data\n",
        "      from.\n",
        "\n",
        "  Returns:\n",
        "      A list of dictionaries each containing a line from an abstract,\n",
        "      the lines label, the lines position in the abstract and the total number\n",
        "      of lines in the abstract where the line is from. For example:\n",
        "\n",
        "      [{\"target\": 'CONCLUSION',\n",
        "        \"text\": The study couldn't have gone better, turns out people are kinder than you think\",\n",
        "        \"line_number\": 8,\n",
        "        \"total_lines\": 8}]\n",
        "  \"\"\"\n",
        "  input_lines = get_lines(filename) # get all lines from filename\n",
        "  abstract_lines = \"\" # create an empty abstract\n",
        "  abstract_samples = [] # create an empty list of abstracts\n",
        "  \n",
        "  # Loop through each line in target file\n",
        "  for line in input_lines:\n",
        "    if line.startswith(\"###\"): # check to see if line is an ID line\n",
        "      abstract_id = line\n",
        "      abstract_lines = \"\" # reset abstract string\n",
        "    elif line.isspace(): # check to see if line is a new line\n",
        "      abstract_line_split = abstract_lines.splitlines() # split abstract into separate lines\n",
        "\n",
        "      # Iterate through each line in abstract and count them at the same time\n",
        "      for abstract_line_number, abstract_line in enumerate(abstract_line_split):\n",
        "        line_data = {} # create empty dict to store data from line\n",
        "        target_text_split = abstract_line.split(\"\\t\") # split target label from text\n",
        "        line_data[\"target\"] = target_text_split[0] # get target label\n",
        "        line_data[\"text\"] = target_text_split[1].lower() # get target text and lower it\n",
        "        line_data[\"line_number\"] = abstract_line_number # what number line does the line appear in the abstract?\n",
        "        line_data[\"total_lines\"] = len(abstract_line_split) - 1 # how many total lines are in the abstract? (start from 0)\n",
        "        abstract_samples.append(line_data) # add line data to abstract samples list\n",
        "    \n",
        "    else: # if the above conditions aren't fulfilled, the line contains a labelled sentence\n",
        "      abstract_lines += line\n",
        "  \n",
        "  return abstract_samples"
      ],
      "execution_count": 7,
      "outputs": []
    },
    {
      "cell_type": "code",
      "metadata": {
        "colab": {
          "base_uri": "https://localhost:8080/"
        },
        "id": "9RAMDFXOwRSE",
        "outputId": "55c806d6-74e2-461c-f9c2-fc324391ee9a"
      },
      "source": [
        "# Getting the data and testing our above function \n",
        "\n",
        "train_samples = preprocess_text_with_line_numbers(train_path)\n",
        "val_samples = preprocess_text_with_line_numbers(val_path)\n",
        "test_samples = preprocess_text_with_line_numbers(test_path)\n",
        "\n",
        "# Checking the len\n",
        "len(train_samples) , len(val_samples) , len(test_samples)"
      ],
      "execution_count": 8,
      "outputs": [
        {
          "output_type": "execute_result",
          "data": {
            "text/plain": [
              "(2211861, 28932, 29493)"
            ]
          },
          "metadata": {
            "tags": []
          },
          "execution_count": 8
        }
      ]
    },
    {
      "cell_type": "code",
      "metadata": {
        "colab": {
          "base_uri": "https://localhost:8080/"
        },
        "id": "2tSK3db5yTw7",
        "outputId": "06c0c60f-166d-4335-a8d0-24f514686db0"
      },
      "source": [
        "# Checking how the abstract of the training data looks like \n",
        "train_samples[:10]"
      ],
      "execution_count": 9,
      "outputs": [
        {
          "output_type": "execute_result",
          "data": {
            "text/plain": [
              "[{'line_number': 0,\n",
              "  'target': 'BACKGROUND',\n",
              "  'text': 'the emergence of hiv as a chronic condition means that people living with hiv are required to take more responsibility for the self-management of their condition , including making physical , emotional and social adjustments .',\n",
              "  'total_lines': 10},\n",
              " {'line_number': 1,\n",
              "  'target': 'BACKGROUND',\n",
              "  'text': 'this paper describes the design and evaluation of positive outlook , an online program aiming to enhance the self-management skills of gay men living with hiv .',\n",
              "  'total_lines': 10},\n",
              " {'line_number': 2,\n",
              "  'target': 'METHODS',\n",
              "  'text': 'this study is designed as a randomised controlled trial in which men living with hiv in australia will be assigned to either an intervention group or usual care control group .',\n",
              "  'total_lines': 10},\n",
              " {'line_number': 3,\n",
              "  'target': 'METHODS',\n",
              "  'text': \"the intervention group will participate in the online group program ` positive outlook ' .\",\n",
              "  'total_lines': 10},\n",
              " {'line_number': 4,\n",
              "  'target': 'METHODS',\n",
              "  'text': 'the program is based on self-efficacy theory and uses a self-management approach to enhance skills , confidence and abilities to manage the psychosocial issues associated with hiv in daily life .',\n",
              "  'total_lines': 10},\n",
              " {'line_number': 5,\n",
              "  'target': 'METHODS',\n",
              "  'text': 'participants will access the program for a minimum of @ minutes per week over seven weeks .',\n",
              "  'total_lines': 10},\n",
              " {'line_number': 6,\n",
              "  'target': 'METHODS',\n",
              "  'text': 'primary outcomes are domain specific self-efficacy , hiv related quality of life , and outcomes of health education .',\n",
              "  'total_lines': 10},\n",
              " {'line_number': 7,\n",
              "  'target': 'METHODS',\n",
              "  'text': 'secondary outcomes include : depression , anxiety and stress ; general health and quality of life ; adjustment to hiv ; and social support .',\n",
              "  'total_lines': 10},\n",
              " {'line_number': 8,\n",
              "  'target': 'METHODS',\n",
              "  'text': 'data collection will take place at baseline , completion of the intervention ( or eight weeks post randomisation ) and at @ week follow-up .',\n",
              "  'total_lines': 10},\n",
              " {'line_number': 9,\n",
              "  'target': 'CONCLUSIONS',\n",
              "  'text': 'results of the positive outlook study will provide information regarding the effectiveness of online group programs improving health related outcomes for men living with hiv .',\n",
              "  'total_lines': 10}]"
            ]
          },
          "metadata": {
            "tags": []
          },
          "execution_count": 9
        }
      ]
    },
    {
      "cell_type": "code",
      "metadata": {
        "colab": {
          "base_uri": "https://localhost:8080/",
          "height": 359
        },
        "id": "1eeStxlb2nol",
        "outputId": "7897da7d-00e1-408d-d32d-44d71d1cdab8"
      },
      "source": [
        "# For a good representation loading these data into a pandas DataFrame \n",
        "import pandas as pd \n",
        "df_train = pd.DataFrame(train_samples)\n",
        "df_val = pd.DataFrame(val_samples)\n",
        "df_test = pd.DataFrame(test_samples)\n",
        "\n",
        "\n",
        "# Looking into the train dataframe \n",
        "df_train.head(10)"
      ],
      "execution_count": 10,
      "outputs": [
        {
          "output_type": "execute_result",
          "data": {
            "text/html": [
              "<div>\n",
              "<style scoped>\n",
              "    .dataframe tbody tr th:only-of-type {\n",
              "        vertical-align: middle;\n",
              "    }\n",
              "\n",
              "    .dataframe tbody tr th {\n",
              "        vertical-align: top;\n",
              "    }\n",
              "\n",
              "    .dataframe thead th {\n",
              "        text-align: right;\n",
              "    }\n",
              "</style>\n",
              "<table border=\"1\" class=\"dataframe\">\n",
              "  <thead>\n",
              "    <tr style=\"text-align: right;\">\n",
              "      <th></th>\n",
              "      <th>target</th>\n",
              "      <th>text</th>\n",
              "      <th>line_number</th>\n",
              "      <th>total_lines</th>\n",
              "    </tr>\n",
              "  </thead>\n",
              "  <tbody>\n",
              "    <tr>\n",
              "      <th>0</th>\n",
              "      <td>BACKGROUND</td>\n",
              "      <td>the emergence of hiv as a chronic condition me...</td>\n",
              "      <td>0</td>\n",
              "      <td>10</td>\n",
              "    </tr>\n",
              "    <tr>\n",
              "      <th>1</th>\n",
              "      <td>BACKGROUND</td>\n",
              "      <td>this paper describes the design and evaluation...</td>\n",
              "      <td>1</td>\n",
              "      <td>10</td>\n",
              "    </tr>\n",
              "    <tr>\n",
              "      <th>2</th>\n",
              "      <td>METHODS</td>\n",
              "      <td>this study is designed as a randomised control...</td>\n",
              "      <td>2</td>\n",
              "      <td>10</td>\n",
              "    </tr>\n",
              "    <tr>\n",
              "      <th>3</th>\n",
              "      <td>METHODS</td>\n",
              "      <td>the intervention group will participate in the...</td>\n",
              "      <td>3</td>\n",
              "      <td>10</td>\n",
              "    </tr>\n",
              "    <tr>\n",
              "      <th>4</th>\n",
              "      <td>METHODS</td>\n",
              "      <td>the program is based on self-efficacy theory a...</td>\n",
              "      <td>4</td>\n",
              "      <td>10</td>\n",
              "    </tr>\n",
              "    <tr>\n",
              "      <th>5</th>\n",
              "      <td>METHODS</td>\n",
              "      <td>participants will access the program for a min...</td>\n",
              "      <td>5</td>\n",
              "      <td>10</td>\n",
              "    </tr>\n",
              "    <tr>\n",
              "      <th>6</th>\n",
              "      <td>METHODS</td>\n",
              "      <td>primary outcomes are domain specific self-effi...</td>\n",
              "      <td>6</td>\n",
              "      <td>10</td>\n",
              "    </tr>\n",
              "    <tr>\n",
              "      <th>7</th>\n",
              "      <td>METHODS</td>\n",
              "      <td>secondary outcomes include : depression , anxi...</td>\n",
              "      <td>7</td>\n",
              "      <td>10</td>\n",
              "    </tr>\n",
              "    <tr>\n",
              "      <th>8</th>\n",
              "      <td>METHODS</td>\n",
              "      <td>data collection will take place at baseline , ...</td>\n",
              "      <td>8</td>\n",
              "      <td>10</td>\n",
              "    </tr>\n",
              "    <tr>\n",
              "      <th>9</th>\n",
              "      <td>CONCLUSIONS</td>\n",
              "      <td>results of the positive outlook study will pro...</td>\n",
              "      <td>9</td>\n",
              "      <td>10</td>\n",
              "    </tr>\n",
              "  </tbody>\n",
              "</table>\n",
              "</div>"
            ],
            "text/plain": [
              "        target  ... total_lines\n",
              "0   BACKGROUND  ...          10\n",
              "1   BACKGROUND  ...          10\n",
              "2      METHODS  ...          10\n",
              "3      METHODS  ...          10\n",
              "4      METHODS  ...          10\n",
              "5      METHODS  ...          10\n",
              "6      METHODS  ...          10\n",
              "7      METHODS  ...          10\n",
              "8      METHODS  ...          10\n",
              "9  CONCLUSIONS  ...          10\n",
              "\n",
              "[10 rows x 4 columns]"
            ]
          },
          "metadata": {
            "tags": []
          },
          "execution_count": 10
        }
      ]
    },
    {
      "cell_type": "code",
      "metadata": {
        "colab": {
          "base_uri": "https://localhost:8080/"
        },
        "id": "VZ5iulXk2-6v",
        "outputId": "f0e73e59-9ce2-462d-abf4-8ee487a0b531"
      },
      "source": [
        "# Distribution of labels in training data\n",
        "df_train.target.value_counts()"
      ],
      "execution_count": 11,
      "outputs": [
        {
          "output_type": "execute_result",
          "data": {
            "text/plain": [
              "RESULTS        766271\n",
              "METHODS        722586\n",
              "CONCLUSIONS    339714\n",
              "BACKGROUND     196689\n",
              "OBJECTIVE      186601\n",
              "Name: target, dtype: int64"
            ]
          },
          "metadata": {
            "tags": []
          },
          "execution_count": 11
        }
      ]
    },
    {
      "cell_type": "markdown",
      "metadata": {
        "id": "ycUBhhfn4Aoy"
      },
      "source": [
        "Now we have to convert our samples into a list of sentences, because when we build our deeplearning model one of its main inputs will be a list of strings. "
      ]
    },
    {
      "cell_type": "code",
      "metadata": {
        "colab": {
          "base_uri": "https://localhost:8080/"
        },
        "id": "k9UnJnA75c_b",
        "outputId": "43908723-c008-4e9c-fc3d-90382dce2be1"
      },
      "source": [
        "# Convert abstract text lines into a lists \n",
        "train_sentences = df_train['text'].to_list()\n",
        "val_sentences = df_val['text'].to_list()\n",
        "test_sentences = df_test['text'].to_list()\n",
        "\n",
        "len(train_sentences) , len(val_sentences) , len(test_sentences)"
      ],
      "execution_count": 12,
      "outputs": [
        {
          "output_type": "execute_result",
          "data": {
            "text/plain": [
              "(2211861, 28932, 29493)"
            ]
          },
          "metadata": {
            "tags": []
          },
          "execution_count": 12
        }
      ]
    },
    {
      "cell_type": "code",
      "metadata": {
        "colab": {
          "base_uri": "https://localhost:8080/"
        },
        "id": "OqxEhmfS5vzc",
        "outputId": "821c98d3-c525-4e85-c901-c16e5cd478b8"
      },
      "source": [
        "# Looking into first 10 lines of the training sentences \n",
        "train_sentences[:10]"
      ],
      "execution_count": 13,
      "outputs": [
        {
          "output_type": "execute_result",
          "data": {
            "text/plain": [
              "['the emergence of hiv as a chronic condition means that people living with hiv are required to take more responsibility for the self-management of their condition , including making physical , emotional and social adjustments .',\n",
              " 'this paper describes the design and evaluation of positive outlook , an online program aiming to enhance the self-management skills of gay men living with hiv .',\n",
              " 'this study is designed as a randomised controlled trial in which men living with hiv in australia will be assigned to either an intervention group or usual care control group .',\n",
              " \"the intervention group will participate in the online group program ` positive outlook ' .\",\n",
              " 'the program is based on self-efficacy theory and uses a self-management approach to enhance skills , confidence and abilities to manage the psychosocial issues associated with hiv in daily life .',\n",
              " 'participants will access the program for a minimum of @ minutes per week over seven weeks .',\n",
              " 'primary outcomes are domain specific self-efficacy , hiv related quality of life , and outcomes of health education .',\n",
              " 'secondary outcomes include : depression , anxiety and stress ; general health and quality of life ; adjustment to hiv ; and social support .',\n",
              " 'data collection will take place at baseline , completion of the intervention ( or eight weeks post randomisation ) and at @ week follow-up .',\n",
              " 'results of the positive outlook study will provide information regarding the effectiveness of online group programs improving health related outcomes for men living with hiv .']"
            ]
          },
          "metadata": {
            "tags": []
          },
          "execution_count": 13
        }
      ]
    },
    {
      "cell_type": "markdown",
      "metadata": {
        "id": "G47zbV8_58ZD"
      },
      "source": [
        "Now the next step would be making our labels in a numerical format. We will be using `CategoricalCrossEntropy` loss function and it likes to have one hot encoded labels. \n",
        "\n",
        "We will use Scikit-learns `OneHotEncoder` and `LabelEncoder` classes. "
      ]
    },
    {
      "cell_type": "code",
      "metadata": {
        "colab": {
          "base_uri": "https://localhost:8080/"
        },
        "id": "VqNNFl_78SbD",
        "outputId": "db66b6b7-7918-40c0-8022-a6961c806028"
      },
      "source": [
        "# Creating a instance of the  OneHotEncoder\n",
        "from sklearn.preprocessing import OneHotEncoder \n",
        "one_hot_encoder = OneHotEncoder(sparse = False)\n",
        "\n",
        "# Converting into one hot labels \n",
        "train_labels_one_hot = one_hot_encoder.fit_transform(df_train['target'].to_numpy().reshape(-1 , 1))\n",
        "val_labels_one_hot = one_hot_encoder.fit_transform(df_val['target'].to_numpy().reshape(-1 , 1))\n",
        "test_labels_one_hot = one_hot_encoder.fit_transform(df_test['target'].to_numpy().reshape(-1 , 1))\n",
        "\n",
        "# Checking how our training labels look like \n",
        "train_labels_one_hot"
      ],
      "execution_count": 14,
      "outputs": [
        {
          "output_type": "execute_result",
          "data": {
            "text/plain": [
              "array([[1., 0., 0., 0., 0.],\n",
              "       [1., 0., 0., 0., 0.],\n",
              "       [0., 0., 1., 0., 0.],\n",
              "       ...,\n",
              "       [0., 0., 0., 0., 1.],\n",
              "       [0., 0., 0., 0., 1.],\n",
              "       [0., 0., 0., 0., 1.]])"
            ]
          },
          "metadata": {
            "tags": []
          },
          "execution_count": 14
        }
      ]
    },
    {
      "cell_type": "markdown",
      "metadata": {
        "id": "42gsrKSR86su"
      },
      "source": [
        "Now we will **Label encode labels** so they can be encoded into integers. "
      ]
    },
    {
      "cell_type": "code",
      "metadata": {
        "colab": {
          "base_uri": "https://localhost:8080/"
        },
        "id": "ZiZyHAIK9rGg",
        "outputId": "d1bc75ff-4322-4f9b-e362-cab532105c40"
      },
      "source": [
        "from sklearn.preprocessing import LabelEncoder \n",
        "label_encoder = LabelEncoder()\n",
        "\n",
        "# Making the conversion\n",
        "train_labels_encoded = label_encoder.fit_transform(df_train['target'].to_numpy())\n",
        "val_labels_encoded = label_encoder.fit_transform(df_val['target'].to_numpy())\n",
        "test_labels_encoded = label_encoder.fit_transform(df_test['target'].to_numpy())\n",
        "\n",
        "train_labels_encoded"
      ],
      "execution_count": 15,
      "outputs": [
        {
          "output_type": "execute_result",
          "data": {
            "text/plain": [
              "array([0, 0, 2, ..., 4, 4, 4])"
            ]
          },
          "metadata": {
            "tags": []
          },
          "execution_count": 15
        }
      ]
    },
    {
      "cell_type": "code",
      "metadata": {
        "colab": {
          "base_uri": "https://localhost:8080/"
        },
        "id": "nIh9XZ8V_Nne",
        "outputId": "96af3a46-2f6e-41c4-dc62-8f850435137c"
      },
      "source": [
        "# Get class names and number of classes from LabelEncoder instance \n",
        "num_classes = len(label_encoder.classes_)\n",
        "class_names = label_encoder.classes_\n",
        "num_classes, class_names"
      ],
      "execution_count": 16,
      "outputs": [
        {
          "output_type": "execute_result",
          "data": {
            "text/plain": [
              "(5, array(['BACKGROUND', 'CONCLUSIONS', 'METHODS', 'OBJECTIVE', 'RESULTS'],\n",
              "       dtype=object))"
            ]
          },
          "metadata": {
            "tags": []
          },
          "execution_count": 16
        }
      ]
    },
    {
      "cell_type": "markdown",
      "metadata": {
        "id": "RvFg6G0T_ViD"
      },
      "source": [
        "## Modelling Experiments \n",
        "\n",
        "In this section we will carry out a handful of modelling experiments such as : \n",
        "- `Model 0` --> Baseline Model: TF-IDF Multinomial Naive Bayes\n",
        "- `Model 1` --> Combining pretrained token embeddings (use embedding) + character embeddings (hybrid embedding layer)\n",
        "- `Model 2` --> Combining pretrained token embeddings (BERT PUBMED embedding) + character embeddings (hybrid embedding layer)\n",
        "- `Model 3` --> Combining pretrained token embeddings (GLOVE Embeddings) + character embeddings (hybrid embedding layer)\n",
        "- `Model 4` --> Tribid model with Positional embedding. \n"
      ]
    },
    {
      "cell_type": "markdown",
      "metadata": {
        "id": "DXIrrgxGDJga"
      },
      "source": [
        "### Model 0: Baseline Model"
      ]
    },
    {
      "cell_type": "code",
      "metadata": {
        "colab": {
          "base_uri": "https://localhost:8080/"
        },
        "id": "LczzJq83MiMa",
        "outputId": "d65b02c3-5e52-4540-e0f4-ca14019ed919"
      },
      "source": [
        "# Building TF-IDF model \n",
        "from sklearn.feature_extraction.text import TfidfVectorizer\n",
        "from sklearn.naive_bayes import MultinomialNB\n",
        "from sklearn.pipeline import Pipeline\n",
        "\n",
        "# Creating the pipeline \n",
        "model_0 = Pipeline([\n",
        "      ('tf-idf' , TfidfVectorizer()), \n",
        "      ('clf' , MultinomialNB())\n",
        "])\n",
        "\n",
        "# Fit the pipeline to the training data \n",
        "model_0.fit(X = train_sentences , \n",
        "            y = train_labels_encoded)"
      ],
      "execution_count": 17,
      "outputs": [
        {
          "output_type": "execute_result",
          "data": {
            "text/plain": [
              "Pipeline(memory=None,\n",
              "         steps=[('tf-idf',\n",
              "                 TfidfVectorizer(analyzer='word', binary=False,\n",
              "                                 decode_error='strict',\n",
              "                                 dtype=<class 'numpy.float64'>,\n",
              "                                 encoding='utf-8', input='content',\n",
              "                                 lowercase=True, max_df=1.0, max_features=None,\n",
              "                                 min_df=1, ngram_range=(1, 1), norm='l2',\n",
              "                                 preprocessor=None, smooth_idf=True,\n",
              "                                 stop_words=None, strip_accents=None,\n",
              "                                 sublinear_tf=False,\n",
              "                                 token_pattern='(?u)\\\\b\\\\w\\\\w+\\\\b',\n",
              "                                 tokenizer=None, use_idf=True,\n",
              "                                 vocabulary=None)),\n",
              "                ('clf',\n",
              "                 MultinomialNB(alpha=1.0, class_prior=None, fit_prior=True))],\n",
              "         verbose=False)"
            ]
          },
          "metadata": {
            "tags": []
          },
          "execution_count": 17
        }
      ]
    },
    {
      "cell_type": "code",
      "metadata": {
        "colab": {
          "base_uri": "https://localhost:8080/"
        },
        "id": "sSKejlzONIO9",
        "outputId": "563e90e3-655c-44fd-bc64-b076fc8ce7f2"
      },
      "source": [
        "# Evaluate the baseline model on our validation dataset \n",
        "model_0.score(X = val_sentences , \n",
        "              y = val_labels_encoded)"
      ],
      "execution_count": 18,
      "outputs": [
        {
          "output_type": "execute_result",
          "data": {
            "text/plain": [
              "0.7497580533665146"
            ]
          },
          "metadata": {
            "tags": []
          },
          "execution_count": 18
        }
      ]
    },
    {
      "cell_type": "code",
      "metadata": {
        "colab": {
          "base_uri": "https://localhost:8080/"
        },
        "id": "Q4b_AYOTNX80",
        "outputId": "896b7e00-b1de-45ec-bb75-5b85c29e2457"
      },
      "source": [
        "# Making predictions \n",
        "baseline_preds = model_0.predict(val_sentences)\n",
        "baseline_preds"
      ],
      "execution_count": 19,
      "outputs": [
        {
          "output_type": "execute_result",
          "data": {
            "text/plain": [
              "array([0, 4, 4, ..., 4, 4, 1])"
            ]
          },
          "metadata": {
            "tags": []
          },
          "execution_count": 19
        }
      ]
    },
    {
      "cell_type": "markdown",
      "metadata": {
        "id": "RcDtE3PFNfo7"
      },
      "source": [
        "Writing a function that calculates some of the important metrics for our model"
      ]
    },
    {
      "cell_type": "code",
      "metadata": {
        "id": "_sL2TnViScnO"
      },
      "source": [
        "from sklearn.metrics import accuracy_score, precision_recall_fscore_support"
      ],
      "execution_count": 20,
      "outputs": []
    },
    {
      "cell_type": "code",
      "metadata": {
        "id": "d6Gmn3lLQHKD"
      },
      "source": [
        "def calculate_results(y_true, y_pred):\n",
        "  \"\"\"\n",
        "  Calculates model accuracy, precision, recall and f1 score of a binary classification model.\n",
        "  Args:\n",
        "      y_true: true labels in the form of a 1D array\n",
        "      y_pred: predicted labels in the form of a 1D array\n",
        "  Returns a dictionary of accuracy, precision, recall, f1-score.\n",
        "  \"\"\"\n",
        "  # Calculate model accuracy\n",
        "  model_accuracy = accuracy_score(y_true, y_pred) * 100\n",
        "  # Calculate model precision, recall and f1 score using \"weighted average\n",
        "  model_precision, model_recall, model_f1, _ = precision_recall_fscore_support(y_true, y_pred, average=\"weighted\")\n",
        "  model_results = {\"accuracy\": model_accuracy,\n",
        "                  \"precision\": model_precision,\n",
        "                  \"recall\": model_recall,\n",
        "                  \"f1\": model_f1}\n",
        "  return model_results"
      ],
      "execution_count": 21,
      "outputs": []
    },
    {
      "cell_type": "code",
      "metadata": {
        "colab": {
          "base_uri": "https://localhost:8080/"
        },
        "id": "_V3y0qBUQHkP",
        "outputId": "08da3a9a-3c53-44e8-c754-1bb7de07dff1"
      },
      "source": [
        "# Calculating our baseline results \n",
        "baseline_results = calculate_results(val_labels_encoded , \n",
        "                                     baseline_preds)\n",
        "baseline_results"
      ],
      "execution_count": 22,
      "outputs": [
        {
          "output_type": "execute_result",
          "data": {
            "text/plain": [
              "{'accuracy': 74.97580533665146,\n",
              " 'f1': 0.7389570175489825,\n",
              " 'precision': 0.7431966265737352,\n",
              " 'recall': 0.7497580533665146}"
            ]
          },
          "metadata": {
            "tags": []
          },
          "execution_count": 22
        }
      ]
    },
    {
      "cell_type": "markdown",
      "metadata": {
        "id": "yQlrKIAsSU5Z"
      },
      "source": [
        "Now we have to create token and character level embeddings so we can use these embeddings while building our models. \n",
        "\n",
        "\n",
        "#### Creating token embeddings "
      ]
    },
    {
      "cell_type": "code",
      "metadata": {
        "id": "MDsggyfsXLXk"
      },
      "source": [
        "# Importing the needed libraries \n",
        "import numpy as np\n",
        "import tensorflow as tf \n",
        "from tensorflow.keras import layers \n",
        "import matplotlib.pyplot as plt\n"
      ],
      "execution_count": 23,
      "outputs": []
    },
    {
      "cell_type": "code",
      "metadata": {
        "colab": {
          "base_uri": "https://localhost:8080/",
          "height": 276
        },
        "id": "dTF22ZZXX4LN",
        "outputId": "2609e659-3b7f-4088-bf10-066ea5383bc3"
      },
      "source": [
        "# How long is each sentence on average \n",
        "sent_lens = [len(sentence.split()) for sentence in train_sentences]\n",
        "avg_sent_len = np.mean(sent_lens)\n",
        "\n",
        "# Distribution of the sentence lengths \n",
        "plt.hist(sent_lens , bins = 7);"
      ],
      "execution_count": 24,
      "outputs": [
        {
          "output_type": "display_data",
          "data": {
            "image/png": "[encoded data removed]",
            "text/plain": [
              "<Figure size 432x288 with 1 Axes>"
            ]
          },
          "metadata": {
            "tags": [],
            "needs_background": "light"
          }
        }
      ]
    },
    {
      "cell_type": "markdown",
      "metadata": {
        "id": "U3JHvqYjYLMA"
      },
      "source": [
        "Looks like the vast majority of the sentence are between 0 to 50 tokens in length. "
      ]
    },
    {
      "cell_type": "code",
      "metadata": {
        "colab": {
          "base_uri": "https://localhost:8080/"
        },
        "id": "3EZ5bRBuYWOr",
        "outputId": "ebe581c0-75c6-4bd9-8007-ba661e5c3425"
      },
      "source": [
        "# How long of a sentence covers 95% of the lengths?\n",
        "output_seq_len = int(np.percentile(sent_lens , 95))\n",
        "\n",
        "# Maximum sentence length in the training set \n",
        "max(sent_lens) , output_seq_len\n"
      ],
      "execution_count": 25,
      "outputs": [
        {
          "output_type": "execute_result",
          "data": {
            "text/plain": [
              "(338, 54)"
            ]
          },
          "metadata": {
            "tags": []
          },
          "execution_count": 25
        }
      ]
    },
    {
      "cell_type": "markdown",
      "metadata": {
        "id": "RBATldM7Yem2"
      },
      "source": [
        "Lets create a `TextVectorization` layer and we will keep the parameters default except for `max_tokens` and `output_sequence_length`. "
      ]
    },
    {
      "cell_type": "code",
      "metadata": {
        "id": "K_6JH1htY3Ey"
      },
      "source": [
        "# Words in the vocabulary (we derive this  from the paper 3.2)\n",
        "max_tokens = 331000"
      ],
      "execution_count": 26,
      "outputs": []
    },
    {
      "cell_type": "code",
      "metadata": {
        "id": "3dQy5r5tZADA"
      },
      "source": [
        "# Creating the text vectorizer layer \n",
        "from tensorflow.keras.layers.experimental.preprocessing import TextVectorization\n",
        "\n",
        "text_vectorizer = TextVectorization(max_tokens = max_tokens , \n",
        "                                    output_sequence_length = output_seq_len)\n",
        "\n",
        "# Adapt the text vectorizer to the training sentence \n",
        "text_vectorizer.adapt(train_sentences)"
      ],
      "execution_count": 27,
      "outputs": []
    },
    {
      "cell_type": "markdown",
      "metadata": {
        "id": "Jw84tC96bYuk"
      },
      "source": [
        "It will take approx 9mins to adapt our training sentences to the `TextVectorization` layer. "
      ]
    },
    {
      "cell_type": "code",
      "metadata": {
        "colab": {
          "base_uri": "https://localhost:8080/"
        },
        "id": "LwLx6Ye3eE04",
        "outputId": "c812e44d-8a2d-474b-ad24-a8f06e6cba36"
      },
      "source": [
        "# Test out text vectorizer\n",
        "import random\n",
        "target_sentence = random.choice(train_sentences)\n",
        "print(f\"Text:\\n{target_sentence}\")\n",
        "print(f\"\\nLength of text: {len(target_sentence.split())}\")\n",
        "print(f\"\\nVectorized text:\\n{text_vectorizer([target_sentence])}\")"
      ],
      "execution_count": 28,
      "outputs": [
        {
          "output_type": "stream",
          "text": [
            "Text:\n",
            "the impact trial compared the preoperative use of tamoxifen with anastrozole alone or in combination in postmenopausal women ( n = @ ) with primary breast cancer .\n",
            "\n",
            "Length of text: 28\n",
            "\n",
            "Vectorized text:\n",
            "[[   2  365   41   35    2  626   84    3 1779    7 4887  235   15    5\n",
            "   232    5  756   72   40    7   81  431  170    0    0    0    0    0\n",
            "     0    0    0    0    0    0    0    0    0    0    0    0    0    0\n",
            "     0    0    0    0    0    0    0    0    0    0    0    0]]\n"
          ],
          "name": "stdout"
        }
      ]
    },
    {
      "cell_type": "code",
      "metadata": {
        "colab": {
          "base_uri": "https://localhost:8080/"
        },
        "id": "Uego0qHWexot",
        "outputId": "6062c655-da05-4dd4-f246-bbecf2b2b788"
      },
      "source": [
        "# Double checking whether the parameters are right!\n",
        "text_vectorizer.get_config()"
      ],
      "execution_count": 29,
      "outputs": [
        {
          "output_type": "execute_result",
          "data": {
            "text/plain": [
              "{'dtype': 'string',\n",
              " 'max_tokens': 331000,\n",
              " 'name': 'text_vectorization',\n",
              " 'ngrams': None,\n",
              " 'output_mode': 'int',\n",
              " 'output_sequence_length': 54,\n",
              " 'pad_to_max_tokens': False,\n",
              " 'split': 'whitespace',\n",
              " 'standardize': 'lower_and_strip_punctuation',\n",
              " 'trainable': True,\n",
              " 'vocabulary_size': 247961}"
            ]
          },
          "metadata": {
            "tags": []
          },
          "execution_count": 29
        }
      ]
    },
    {
      "cell_type": "markdown",
      "metadata": {
        "id": "eb_TX1gJnteg"
      },
      "source": [
        "Now the next step would be creating a custom Embedding layer. We know that our `text_vectorizer` layer maps the words in our text directly to numbers. To create a richer numerical representation of our text, we can use an `Embedding` layer."
      ]
    },
    {
      "cell_type": "code",
      "metadata": {
        "colab": {
          "base_uri": "https://localhost:8080/"
        },
        "id": "-S_xKlner2Pu",
        "outputId": "92aa3351-97ec-4e19-f4b0-305db121d238"
      },
      "source": [
        "# Create a token embedding layer \n",
        "token_embedding = layers.Embedding(input_dim = len(text_vectorizer.get_vocabulary()) , \n",
        "                                   output_dim = 128 , \n",
        "                                   mask_zero = True ,\n",
        "                                   name = 'token_embedding_layer')\n",
        "\n",
        "# Show example embedding\n",
        "print(f\"Sentence before vectorization:\\n{target_sentence}\\n\")\n",
        "vectorized_sentence = text_vectorizer([target_sentence])\n",
        "print(f\"Sentence after vectorization (before embedding):\\n{vectorized_sentence}\\n\")\n",
        "embedded_sentence = token_embedding(vectorized_sentence)\n",
        "print(f\"Sentence after embedding:\\n{embedded_sentence}\\n\")\n",
        "print(f\"Embedded sentence shape: {embedded_sentence.shape}\")"
      ],
      "execution_count": 30,
      "outputs": [
        {
          "output_type": "stream",
          "text": [
            "Sentence before vectorization:\n",
            "the impact trial compared the preoperative use of tamoxifen with anastrozole alone or in combination in postmenopausal women ( n = @ ) with primary breast cancer .\n",
            "\n",
            "Sentence after vectorization (before embedding):\n",
            "[[   2  365   41   35    2  626   84    3 1779    7 4887  235   15    5\n",
            "   232    5  756   72   40    7   81  431  170    0    0    0    0    0\n",
            "     0    0    0    0    0    0    0    0    0    0    0    0    0    0\n",
            "     0    0    0    0    0    0    0    0    0    0    0    0]]\n",
            "\n",
            "Sentence after embedding:\n",
            "[[[-0.04223011  0.0498828   0.03165421 ... -0.04383562  0.00688378\n",
            "    0.04297897]\n",
            "  [ 0.04528394  0.00164843 -0.04249897 ...  0.0190696  -0.04471027\n",
            "    0.00900731]\n",
            "  [ 0.04982716 -0.03944074  0.04427898 ... -0.01235395  0.01853031\n",
            "    0.00305895]\n",
            "  ...\n",
            "  [-0.02634192 -0.01734896 -0.03496151 ... -0.01394435  0.01455059\n",
            "   -0.02580996]\n",
            "  [-0.02634192 -0.01734896 -0.03496151 ... -0.01394435  0.01455059\n",
            "   -0.02580996]\n",
            "  [-0.02634192 -0.01734896 -0.03496151 ... -0.01394435  0.01455059\n",
            "   -0.02580996]]]\n",
            "\n",
            "Embedded sentence shape: (1, 54, 128)\n"
          ],
          "name": "stdout"
        }
      ]
    },
    {
      "cell_type": "markdown",
      "metadata": {
        "id": "AO43aSWQsLfn"
      },
      "source": [
        "Alright cool! Now we have to make a character embedding so that we can load our training sentence as characters. \n",
        "\n",
        "#### Creating a character level embedding"
      ]
    },
    {
      "cell_type": "code",
      "metadata": {
        "colab": {
          "base_uri": "https://localhost:8080/",
          "height": 103
        },
        "id": "hZaHG3ZNthJE",
        "outputId": "aa59c3c2-a9b2-4d4a-dd2e-df792096a540"
      },
      "source": [
        "# Making a function to split sentences into characters \n",
        "def split_chars(text):\n",
        "  return ' '.join(list(text))\n",
        "\n",
        "# Trying out the above function on a sequence \n",
        "split_chars(train_sentences[0])"
      ],
      "execution_count": 31,
      "outputs": [
        {
          "output_type": "execute_result",
          "data": {
            "application/vnd.google.colaboratory.intrinsic+json": {
              "type": "string"
            },
            "text/plain": [
              "'t h e   e m e r g e n c e   o f   h i v   a s   a   c h r o n i c   c o n d i t i o n   m e a n s   t h a t   p e o p l e   l i v i n g   w i t h   h i v   a r e   r e q u i r e d   t o   t a k e   m o r e   r e s p o n s i b i l i t y   f o r   t h e   s e l f - m a n a g e m e n t   o f   t h e i r   c o n d i t i o n   ,   i n c l u d i n g   m a k i n g   p h y s i c a l   ,   e m o t i o n a l   a n d   s o c i a l   a d j u s t m e n t s   .'"
            ]
          },
          "metadata": {
            "tags": []
          },
          "execution_count": 31
        }
      ]
    },
    {
      "cell_type": "code",
      "metadata": {
        "id": "eIgzuvewthNl"
      },
      "source": [
        "# Splitting sequence level data splits into character-level data splits \n",
        "train_chars = [split_chars(sentence) for sentence in train_sentences]\n",
        "val_chars = [split_chars(sentence) for sentence in val_sentences]\n",
        "test_chars = [split_chars(sentence) for sentence in test_sentences]"
      ],
      "execution_count": 32,
      "outputs": []
    },
    {
      "cell_type": "code",
      "metadata": {
        "colab": {
          "base_uri": "https://localhost:8080/"
        },
        "id": "n-wcdryBvJRY",
        "outputId": "723dfb48-354a-4554-cd9c-0a11e86d4224"
      },
      "source": [
        "# Looking how our train characters look like\n",
        "print(train_chars[0]) , len(train_chars) , len(train_sentences)"
      ],
      "execution_count": 33,
      "outputs": [
        {
          "output_type": "stream",
          "text": [
            "t h e   e m e r g e n c e   o f   h i v   a s   a   c h r o n i c   c o n d i t i o n   m e a n s   t h a t   p e o p l e   l i v i n g   w i t h   h i v   a r e   r e q u i r e d   t o   t a k e   m o r e   r e s p o n s i b i l i t y   f o r   t h e   s e l f - m a n a g e m e n t   o f   t h e i r   c o n d i t i o n   ,   i n c l u d i n g   m a k i n g   p h y s i c a l   ,   e m o t i o n a l   a n d   s o c i a l   a d j u s t m e n t s   .\n"
          ],
          "name": "stdout"
        },
        {
          "output_type": "execute_result",
          "data": {
            "text/plain": [
              "(None, 2211861, 2211861)"
            ]
          },
          "metadata": {
            "tags": []
          },
          "execution_count": 33
        }
      ]
    },
    {
      "cell_type": "markdown",
      "metadata": {
        "id": "LaQx1mCUvR95"
      },
      "source": [
        "To figure out how long our vectorized character sequences should be, lets check the distribution of our character sequence lengths. "
      ]
    },
    {
      "cell_type": "code",
      "metadata": {
        "colab": {
          "base_uri": "https://localhost:8080/"
        },
        "id": "Bkoy5es4vdDo",
        "outputId": "fa367f77-840c-4906-cc17-19f42c595d5a"
      },
      "source": [
        "# Calculating the average length\n",
        "char_lens = [len(sentence) for sentence in train_sentences]\n",
        "mean_char_len = np.mean(char_lens)\n",
        "mean_char_len"
      ],
      "execution_count": 34,
      "outputs": [
        {
          "output_type": "execute_result",
          "data": {
            "text/plain": [
              "147.82646377869133"
            ]
          },
          "metadata": {
            "tags": []
          },
          "execution_count": 34
        }
      ]
    },
    {
      "cell_type": "code",
      "metadata": {
        "colab": {
          "base_uri": "https://localhost:8080/",
          "height": 276
        },
        "id": "7zQhoN1xvqfM",
        "outputId": "c2551073-d987-4b5e-8b88-d696785bb578"
      },
      "source": [
        "# Check the distribution of our character level \n",
        "plt.hist(char_lens, bins=7);"
      ],
      "execution_count": 35,
      "outputs": [
        {
          "output_type": "display_data",
          "data": {
            "image/png": "[encoded data removed]",
            "text/plain": [
              "<Figure size 432x288 with 1 Axes>"
            ]
          },
          "metadata": {
            "tags": [],
            "needs_background": "light"
          }
        }
      ]
    },
    {
      "cell_type": "code",
      "metadata": {
        "colab": {
          "base_uri": "https://localhost:8080/"
        },
        "id": "CbetJnAjwW6P",
        "outputId": "ed20ca22-1d4a-4311-b756-a6a5331bb971"
      },
      "source": [
        "# Find what character length covers 95% of sequences\n",
        "output_seq_char_len = int(np.percentile(char_lens, 95))\n",
        "output_seq_char_len"
      ],
      "execution_count": 36,
      "outputs": [
        {
          "output_type": "execute_result",
          "data": {
            "text/plain": [
              "284"
            ]
          },
          "metadata": {
            "tags": []
          },
          "execution_count": 36
        }
      ]
    },
    {
      "cell_type": "code",
      "metadata": {
        "colab": {
          "base_uri": "https://localhost:8080/",
          "height": 35
        },
        "id": "J5qkkDJBwb0M",
        "outputId": "3ab1bf7f-de6e-4235-c57b-2b662b0d094b"
      },
      "source": [
        "# Get all keyboard characters for char-level embedding \n",
        "import string \n",
        "alphabet = string.ascii_lowercase + string.digits + string.punctuation\n",
        "alphabet"
      ],
      "execution_count": 37,
      "outputs": [
        {
          "output_type": "execute_result",
          "data": {
            "application/vnd.google.colaboratory.intrinsic+json": {
              "type": "string"
            },
            "text/plain": [
              "'abcdefghijklmnopqrstuvwxyz0123456789!\"#$%&\\'()*+,-./:;<=>?@[\\\\]^_`{|}~'"
            ]
          },
          "metadata": {
            "tags": []
          },
          "execution_count": 37
        }
      ]
    },
    {
      "cell_type": "code",
      "metadata": {
        "colab": {
          "base_uri": "https://localhost:8080/"
        },
        "id": "ruLgn95i5Y6M",
        "outputId": "7272b05f-1679-4277-a604-52a1f571b031"
      },
      "source": [
        "len(train_sentences) , len(train_chars)"
      ],
      "execution_count": 38,
      "outputs": [
        {
          "output_type": "execute_result",
          "data": {
            "text/plain": [
              "(2211861, 2211861)"
            ]
          },
          "metadata": {
            "tags": []
          },
          "execution_count": 38
        }
      ]
    },
    {
      "cell_type": "code",
      "metadata": {
        "colab": {
          "base_uri": "https://localhost:8080/"
        },
        "id": "a6TW8Ipz198W",
        "outputId": "d31c9642-dc7b-4ca4-dfa3-13144c3993e6"
      },
      "source": [
        "output_seq_char_len , output_seq_len"
      ],
      "execution_count": 39,
      "outputs": [
        {
          "output_type": "execute_result",
          "data": {
            "text/plain": [
              "(284, 54)"
            ]
          },
          "metadata": {
            "tags": []
          },
          "execution_count": 39
        }
      ]
    },
    {
      "cell_type": "code",
      "metadata": {
        "id": "2yXWgOg8wt8M"
      },
      "source": [
        "# Create a char-level token vectorizer \n",
        "num_char_tokens = len(alphabet) + 2 # space + OOV token = 2 \n",
        "\n",
        "char_vectorizer = TextVectorization(max_tokens = num_char_tokens , \n",
        "                                    output_sequence_length = output_seq_char_len , \n",
        "                                    name = 'char_vectorizer')\n",
        "\n"
      ],
      "execution_count": 40,
      "outputs": []
    },
    {
      "cell_type": "code",
      "metadata": {
        "id": "bivojGRZ5yXm"
      },
      "source": [
        "# Adapt character vectorizer to training characters \n",
        "char_vectorizer.adapt(train_chars)"
      ],
      "execution_count": 41,
      "outputs": []
    },
    {
      "cell_type": "code",
      "metadata": {
        "id": "08jYXjwry4PH",
        "colab": {
          "base_uri": "https://localhost:8080/"
        },
        "outputId": "2a2ab4e0-bf1b-4db4-c92d-a5a73e70d34b"
      },
      "source": [
        "# Test out character vectorizer\n",
        "random_train_chars = random.choice(train_chars)\n",
        "print(f\"Charified text:\\n{random_train_chars}\")\n",
        "print(f\"\\nLength of chars: {len(random_train_chars.split())}\")\n",
        "vectorized_chars = char_vectorizer([random_train_chars])\n",
        "print(f\"\\nVectorized chars:\\n{vectorized_chars}\")\n",
        "print(f\"\\nLength of vectorized chars: {len(vectorized_chars[0])}\")\n"
      ],
      "execution_count": 43,
      "outputs": [
        {
          "output_type": "stream",
          "text": [
            "Charified text:\n",
            "p r e - t e s t   t e e   s i m u l a t o r   s c o r e s   w e r e   s i m i l a r   b e t w e e n   t h e   t w o   i n s t r u c t i o n   g r o u p s   (   @   v s   @   ;   p   =   @   )   .\n",
            "\n",
            "Length of chars: 78\n",
            "\n",
            "Vectorized chars:\n",
            "[[14  8  2  3  2  9  3  3  2  2  9  5 15 16 11  4  3  7  8  9 12  7  8  2\n",
            "   9 20  2  8  2  9  5 15  5 11  4  8 22  2  3 20  2  2  6  3 13  2  3 20\n",
            "   7  5  6  9  3  8 16 12  3  5  7  6 18  8  7 16 14  9 21  9 14  0  0  0\n",
            "   0  0  0  0  0  0  0  0  0  0  0  0  0  0  0  0  0  0  0  0  0  0  0  0\n",
            "   0  0  0  0  0  0  0  0  0  0  0  0  0  0  0  0  0  0  0  0  0  0  0  0\n",
            "   0  0  0  0  0  0  0  0  0  0  0  0  0  0  0  0  0  0  0  0  0  0  0  0\n",
            "   0  0  0  0  0  0  0  0  0  0  0  0  0  0  0  0  0  0  0  0  0  0  0  0\n",
            "   0  0  0  0  0  0  0  0  0  0  0  0  0  0  0  0  0  0  0  0  0  0  0  0\n",
            "   0  0  0  0  0  0  0  0  0  0  0  0  0  0  0  0  0  0  0  0  0  0  0  0\n",
            "   0  0  0  0  0  0  0  0  0  0  0  0  0  0  0  0  0  0  0  0  0  0  0  0\n",
            "   0  0  0  0  0  0  0  0  0  0  0  0  0  0  0  0  0  0  0  0  0  0  0  0\n",
            "   0  0  0  0  0  0  0  0  0  0  0  0  0  0  0  0  0  0  0  0]]\n",
            "\n",
            "Length of vectorized chars: 284\n"
          ],
          "name": "stdout"
        }
      ]
    },
    {
      "cell_type": "code",
      "metadata": {
        "id": "uqAf6S2oy7Sa",
        "colab": {
          "base_uri": "https://localhost:8080/"
        },
        "outputId": "3948664a-7676-4e81-8562-f60553a1e3e5"
      },
      "source": [
        "# Create char embedding layer\n",
        "char_embed = layers.Embedding(input_dim=num_char_tokens, # number of different characters\n",
        "                              output_dim=25, # embedding dimension of each character (same as Figure 1 in https://arxiv.org/pdf/1612.05251.pdf)\n",
        "                              mask_zero=True,\n",
        "                              name=\"char_embed\")\n",
        "\n",
        "# Test out character embedding layer\n",
        "print(f\"Charified text (before vectorization and embedding):\\n{random_train_chars}\\n\")\n",
        "char_embed_example = char_embed(char_vectorizer([random_train_chars]))\n",
        "print(f\"Embedded chars (after vectorization and embedding):\\n{char_embed_example}\\n\")\n",
        "print(f\"Character embedding shape: {char_embed_example.shape}\")\n"
      ],
      "execution_count": 44,
      "outputs": [
        {
          "output_type": "stream",
          "text": [
            "Charified text (before vectorization and embedding):\n",
            "p r e - t e s t   t e e   s i m u l a t o r   s c o r e s   w e r e   s i m i l a r   b e t w e e n   t h e   t w o   i n s t r u c t i o n   g r o u p s   (   @   v s   @   ;   p   =   @   )   .\n",
            "\n",
            "Embedded chars (after vectorization and embedding):\n",
            "[[[-0.03577929  0.03183735  0.04234007 ...  0.00670324 -0.04951379\n",
            "    0.04789874]\n",
            "  [-0.03092854 -0.00013926 -0.02975397 ... -0.04448028  0.02656147\n",
            "   -0.01796294]\n",
            "  [-0.02903371  0.04619432 -0.04220468 ...  0.0155268  -0.04254328\n",
            "   -0.02677089]\n",
            "  ...\n",
            "  [-0.02248429 -0.04353008 -0.00706393 ...  0.00495217 -0.00899876\n",
            "   -0.04533676]\n",
            "  [-0.02248429 -0.04353008 -0.00706393 ...  0.00495217 -0.00899876\n",
            "   -0.04533676]\n",
            "  [-0.02248429 -0.04353008 -0.00706393 ...  0.00495217 -0.00899876\n",
            "   -0.04533676]]]\n",
            "\n",
            "Character embedding shape: (1, 284, 25)\n"
          ],
          "name": "stdout"
        }
      ]
    },
    {
      "cell_type": "markdown",
      "metadata": {
        "id": "6uF13tzZDGAz"
      },
      "source": [
        "#### Create positional embeddings \n",
        "\n",
        "Since our column `line_number` and `total_line` arre already numerical, we could pass them as they are to our model.\n",
        "\n",
        "We will use one-hot-encoding to avoid our model thinking a line with `line_number` 5 is five times greater than a line with `line_number` 1. \n",
        "\n",
        "Lets figure out the depth parameter so we can use that to one-hot-encoder our features"
      ]
    },
    {
      "cell_type": "code",
      "metadata": {
        "colab": {
          "base_uri": "https://localhost:8080/"
        },
        "id": "Wb8dQqCkGa3E",
        "outputId": "7d0d65f0-bbb5-467f-cdf9-b2322b5fd127"
      },
      "source": [
        "# How many different line numbers are there?\n",
        "df_train[\"line_number\"].value_counts()"
      ],
      "execution_count": 45,
      "outputs": [
        {
          "output_type": "execute_result",
          "data": {
            "text/plain": [
              "0     190654\n",
              "1     190654\n",
              "2     190654\n",
              "3     190644\n",
              "4     190357\n",
              "5     189080\n",
              "6     185551\n",
              "7     177967\n",
              "8     164187\n",
              "9     143835\n",
              "10    117871\n",
              "11     90168\n",
              "12     64864\n",
              "13     44350\n",
              "14     29186\n",
              "15     18785\n",
              "16     11803\n",
              "17      7392\n",
              "18      4688\n",
              "19      3030\n",
              "20      1925\n",
              "21      1268\n",
              "22       814\n",
              "23       564\n",
              "24       398\n",
              "25       288\n",
              "26       214\n",
              "27       159\n",
              "28       118\n",
              "29        88\n",
              "30        64\n",
              "31        55\n",
              "32        42\n",
              "33        34\n",
              "34        21\n",
              "35        17\n",
              "36        12\n",
              "37         9\n",
              "38         6\n",
              "39         6\n",
              "40         6\n",
              "41         5\n",
              "42         5\n",
              "43         5\n",
              "44         4\n",
              "45         4\n",
              "46         3\n",
              "48         2\n",
              "49         2\n",
              "47         2\n",
              "50         1\n",
              "Name: line_number, dtype: int64"
            ]
          },
          "metadata": {
            "tags": []
          },
          "execution_count": 45
        }
      ]
    },
    {
      "cell_type": "code",
      "metadata": {
        "colab": {
          "base_uri": "https://localhost:8080/",
          "height": 293
        },
        "id": "JGpdLK--Ga8T",
        "outputId": "d2390cd3-9886-4b22-e3c3-4aa3980e56ba"
      },
      "source": [
        "# Check the distribution of \"line_number\" column\n",
        "df_train.line_number.plot.hist()"
      ],
      "execution_count": 50,
      "outputs": [
        {
          "output_type": "execute_result",
          "data": {
            "text/plain": [
              "<matplotlib.axes._subplots.AxesSubplot at 0x7f6cf2573ad0>"
            ]
          },
          "metadata": {
            "tags": []
          },
          "execution_count": 50
        },
        {
          "output_type": "display_data",
          "data": {
            "image/png": "[encoded data removed]",
            "text/plain": [
              "<Figure size 432x288 with 1 Axes>"
            ]
          },
          "metadata": {
            "tags": [],
            "needs_background": "light"
          }
        }
      ]
    },
    {
      "cell_type": "markdown",
      "metadata": {
        "id": "HgDubkt9GkuZ"
      },
      "source": [
        "Looking at the distribution of the `line_number` column. It looks like the majority of thhe lines have a position of 15 or less "
      ]
    },
    {
      "cell_type": "code",
      "metadata": {
        "id": "M2T-BC9UGkz1"
      },
      "source": [
        "# One hot encoding our line_number column \n",
        "\n",
        "train_line_numbers_one_hot = tf.one_hot(df_train[\"line_number\"].to_numpy(), depth=15)\n",
        "val_line_numbers_one_hot = tf.one_hot(df_val[\"line_number\"].to_numpy(), depth=15)\n",
        "test_line_numbers_one_hot = tf.one_hot(df_test[\"line_number\"].to_numpy(), depth=15)"
      ],
      "execution_count": 54,
      "outputs": []
    },
    {
      "cell_type": "code",
      "metadata": {
        "colab": {
          "base_uri": "https://localhost:8080/",
          "height": 276
        },
        "id": "pOiiebGvGbDF",
        "outputId": "3b8531d6-5406-43ca-c9d0-7d834754e516"
      },
      "source": [
        "# Check the distribution of total lines\n",
        "df_train.total_lines.plot.hist();"
      ],
      "execution_count": 52,
      "outputs": [
        {
          "output_type": "display_data",
          "data": {
            "image/png": "[encoded data removed]",
            "text/plain": [
              "<Figure size 432x288 with 1 Axes>"
            ]
          },
          "metadata": {
            "tags": [],
            "needs_background": "light"
          }
        }
      ]
    },
    {
      "cell_type": "code",
      "metadata": {
        "colab": {
          "base_uri": "https://localhost:8080/"
        },
        "id": "4m_c03mtHNXK",
        "outputId": "62571159-dc0b-473a-b91a-1e17438452d8"
      },
      "source": [
        "# Check the coverage of a \"total_lines\" of 98% distribution\n",
        "np.percentile(df_train.total_lines, 98) # a value of 20 covers 98% of samples"
      ],
      "execution_count": 53,
      "outputs": [
        {
          "output_type": "execute_result",
          "data": {
            "text/plain": [
              "20.0"
            ]
          },
          "metadata": {
            "tags": []
          },
          "execution_count": 53
        }
      ]
    },
    {
      "cell_type": "code",
      "metadata": {
        "colab": {
          "base_uri": "https://localhost:8080/"
        },
        "id": "oAN1Fc7NHZum",
        "outputId": "11fe2d58-1b0f-4aee-f2d3-1c402cc16a13"
      },
      "source": [
        "# One hot encoding the total_lines feature \n",
        "\n",
        "train_total_lines_one_hot = tf.one_hot(df_train[\"total_lines\"].to_numpy(), depth=20)\n",
        "val_total_lines_one_hot = tf.one_hot(df_val[\"total_lines\"].to_numpy(), depth=20)\n",
        "test_total_lines_one_hot = tf.one_hot(df_test[\"total_lines\"].to_numpy(), depth=20)\n",
        "\n",
        "# Check shape and samples of total lines one-hot tensor\n",
        "train_total_lines_one_hot.shape, train_total_lines_one_hot[:10]"
      ],
      "execution_count": 55,
      "outputs": [
        {
          "output_type": "execute_result",
          "data": {
            "text/plain": [
              "(TensorShape([2211861, 20]), <tf.Tensor: shape=(10, 20), dtype=float32, numpy=\n",
              " array([[0., 0., 0., 0., 0., 0., 0., 0., 0., 0., 1., 0., 0., 0., 0., 0.,\n",
              "         0., 0., 0., 0.],\n",
              "        [0., 0., 0., 0., 0., 0., 0., 0., 0., 0., 1., 0., 0., 0., 0., 0.,\n",
              "         0., 0., 0., 0.],\n",
              "        [0., 0., 0., 0., 0., 0., 0., 0., 0., 0., 1., 0., 0., 0., 0., 0.,\n",
              "         0., 0., 0., 0.],\n",
              "        [0., 0., 0., 0., 0., 0., 0., 0., 0., 0., 1., 0., 0., 0., 0., 0.,\n",
              "         0., 0., 0., 0.],\n",
              "        [0., 0., 0., 0., 0., 0., 0., 0., 0., 0., 1., 0., 0., 0., 0., 0.,\n",
              "         0., 0., 0., 0.],\n",
              "        [0., 0., 0., 0., 0., 0., 0., 0., 0., 0., 1., 0., 0., 0., 0., 0.,\n",
              "         0., 0., 0., 0.],\n",
              "        [0., 0., 0., 0., 0., 0., 0., 0., 0., 0., 1., 0., 0., 0., 0., 0.,\n",
              "         0., 0., 0., 0.],\n",
              "        [0., 0., 0., 0., 0., 0., 0., 0., 0., 0., 1., 0., 0., 0., 0., 0.,\n",
              "         0., 0., 0., 0.],\n",
              "        [0., 0., 0., 0., 0., 0., 0., 0., 0., 0., 1., 0., 0., 0., 0., 0.,\n",
              "         0., 0., 0., 0.],\n",
              "        [0., 0., 0., 0., 0., 0., 0., 0., 0., 0., 1., 0., 0., 0., 0., 0.,\n",
              "         0., 0., 0., 0.]], dtype=float32)>)"
            ]
          },
          "metadata": {
            "tags": []
          },
          "execution_count": 55
        }
      ]
    },
    {
      "cell_type": "markdown",
      "metadata": {
        "id": "Xucp4JKkVu8h"
      },
      "source": [
        "### Creating the datasets for fitting the model \n"
      ]
    },
    {
      "cell_type": "code",
      "metadata": {
        "id": "kMhBHhckVuax"
      },
      "source": [
        "# Create training, validation and test datasets (all four kinds of inputs)\n",
        "\n",
        "# Training dataset \n",
        "train_pos_chars_token_data = tf.data.Dataset.from_tensor_slices((train_line_numbers_one_hot , \n",
        "                                                                 train_total_lines_one_hot , \n",
        "                                                                 train_sentences ,\n",
        "                                                                 train_chars))\n",
        "train_pos_char_token_labels = tf.data.Dataset.from_tensor_slices(train_labels_one_hot)\n",
        "train_dataset = tf.data.Dataset.zip((train_pos_chars_token_data , train_pos_char_token_labels))\n",
        "train_dataset = train_dataset.batch(32).prefetch(tf.data.AUTOTUNE)\n",
        "\n",
        "# Validation dataset\n",
        "val_pos_char_token_data = tf.data.Dataset.from_tensor_slices((val_line_numbers_one_hot,\n",
        "                                                              val_total_lines_one_hot,\n",
        "                                                              val_sentences,\n",
        "                                                              val_chars))\n",
        "val_pos_char_token_labels = tf.data.Dataset.from_tensor_slices(val_labels_one_hot)\n",
        "val_dataset = tf.data.Dataset.zip((val_pos_char_token_data, val_pos_char_token_labels))\n",
        "val_dataset = val_dataset.batch(32).prefetch(tf.data.AUTOTUNE)\n",
        "\n",
        "# Test Dataset \n",
        "test_pos_char_token_data = tf.data.Dataset.from_tensor_slices((test_line_numbers_one_hot,\n",
        "                                                               test_total_lines_one_hot,\n",
        "                                                               test_sentences,\n",
        "                                                               test_chars))\n",
        "test_pos_char_token_labels = tf.data.Dataset.from_tensor_slices(test_labels_one_hot)\n",
        "test_dataset = tf.data.Dataset.zip((test_pos_char_token_data, test_pos_char_token_labels))\n",
        "test_dataset = test_dataset.batch(32).prefetch(tf.data.AUTOTUNE)"
      ],
      "execution_count": 64,
      "outputs": []
    },
    {
      "cell_type": "code",
      "metadata": {
        "colab": {
          "base_uri": "https://localhost:8080/"
        },
        "id": "-chwQWJ0Z-Hi",
        "outputId": "efac498b-69b3-4572-b4e1-b225fabdaa0a"
      },
      "source": [
        "# Looking into our dataset \n",
        "train_dataset , val_dataset , test_dataset"
      ],
      "execution_count": 65,
      "outputs": [
        {
          "output_type": "execute_result",
          "data": {
            "text/plain": [
              "(<PrefetchDataset shapes: (((None, 15), (None, 20), (None,), (None,)), (None, 5)), types: ((tf.float32, tf.float32, tf.string, tf.string), tf.float64)>,\n",
              " <PrefetchDataset shapes: (((None, 15), (None, 20), (None,), (None,)), (None, 5)), types: ((tf.float32, tf.float32, tf.string, tf.string), tf.float64)>,\n",
              " <PrefetchDataset shapes: (((None, 15), (None, 20), (None,), (None,)), (None, 5)), types: ((tf.float32, tf.float32, tf.string, tf.string), tf.float64)>)"
            ]
          },
          "metadata": {
            "tags": []
          },
          "execution_count": 65
        }
      ]
    },
    {
      "cell_type": "markdown",
      "metadata": {
        "id": "1TWYaQ_KCLRL"
      },
      "source": [
        "All done now lets jump into building models \n",
        "\n",
        "### Model 1 --> Combining  token embeddings (use  + character embeddings (hybrid embedding layer) + positional embeddings \n",
        "\n",
        "In here we will build a tribid model with custom vectorizer and embedding layer for both tokens and characters. "
      ]
    },
    {
      "cell_type": "code",
      "metadata": {
        "colab": {
          "base_uri": "https://localhost:8080/"
        },
        "id": "K2I5fkcyC1dC",
        "outputId": "a3d5b899-a5ca-47df-a2a7-54a7083534c3"
      },
      "source": [
        "# Building a custom tribid model (without pretrained embeddings)\n",
        "\n",
        "# Token Inputs (sentence)\n",
        "token_inputs = layers.Input(shape = (1,), dtype = tf.string, name = 'token_inputs')\n",
        "token_vectorizer = text_vectorizer(token_inputs)\n",
        "token_embed = token_embedding(token_vectorizer)\n",
        "token_bi_lstm = layers.Bidirectional(layers.LSTM(40))(token_embed)\n",
        "token_model = tf.keras.Model(inputs = token_inputs , \n",
        "                             outputs = token_bi_lstm)\n",
        "\n",
        "# Char-level Inputs (characters)\n",
        "char_inputs = layers.Input(shape = (1,) , dtype = tf.string , name = 'char_inputs')\n",
        "char_vectorize = char_vectorizer(char_inputs)\n",
        "char_embedding = char_embed(char_vectorize)\n",
        "char_bi_lstm = layers.Bidirectional(layers.LSTM(40))(char_embedding)\n",
        "char_model = tf.keras.Model(inputs = char_inputs ,\n",
        "                            outputs = char_bi_lstm)\n",
        "\n",
        "\n",
        "# Positional Embedding (total_lines and line_numbers)\n",
        "line_num_inputs = layers.Input(shape = (15 ,) , dtype= tf.int32 , name = 'line_number_input')\n",
        "x = layers.Dense(32 , activation= 'relu')(line_num_inputs)\n",
        "line_number_model = tf.keras.Model(inputs = line_num_inputs , \n",
        "                                   outputs = x)\n",
        "\n",
        "total_line_inputs = layers.Input(shape = (20 ,) , dtype=tf.int32 , name = 'total_line_input')\n",
        "y = layers.Dense(32 , activation= 'relu')(total_line_inputs)\n",
        "total_line_model = tf.keras.Model(inputs = total_line_inputs , \n",
        "                                  outputs = y)\n",
        "\n",
        "# Combine character and token emmbedding into a hybrid embedding \n",
        "combined_embeddings = layers.Concatenate(name ='token_char_hybrid_embedding')([token_model.output , \n",
        "                                                                               char_model.output])\n",
        "\n",
        "# Adding the needed Dropout (as per in the paper)\n",
        "combined_dropout = layers.Dropout(0.5)(combined_embeddings)\n",
        "z = layers.Dense(256 , activation= 'relu')(combined_dropout)\n",
        "\n",
        "\n",
        "# Combine Positional embeddingw with the hybrid embedding (tribid embedding)\n",
        "tribid_embedding = layers.Concatenate(name ='char_token_positional_tribid_embedding')([line_number_model.output , \n",
        "                                                                                       total_line_model.output , \n",
        "                                                                                       z])\n",
        "\n",
        "# Output layer \n",
        "output_layer = layers.Dense(5 , activation= 'softmax' , name ='output_layer')(tribid_embedding)\n",
        "\n",
        "# Putting everything together \n",
        "model_1 = tf.keras.Model(inputs = [line_number_model.input , \n",
        "                                   total_line_model.input , \n",
        "                                   token_model.input , \n",
        "                                   char_model.input] , \n",
        "                         outputs = output_layer)\n",
        "\n",
        "# Sumamry of the model \n",
        "model_1.summary()\n",
        "\n",
        "\n"
      ],
      "execution_count": 58,
      "outputs": [
        {
          "output_type": "stream",
          "text": [
            "Model: \"model_5\"\n",
            "__________________________________________________________________________________________________\n",
            "Layer (type)                    Output Shape         Param #     Connected to                     \n",
            "==================================================================================================\n",
            "token_inputs (InputLayer)       [(None, 1)]          0                                            \n",
            "__________________________________________________________________________________________________\n",
            "char_inputs (InputLayer)        [(None, 1)]          0                                            \n",
            "__________________________________________________________________________________________________\n",
            "text_vectorization (TextVectori (None, 54)           0           token_inputs[0][0]               \n",
            "__________________________________________________________________________________________________\n",
            "char_vectorizer (TextVectorizat (None, 284)          0           char_inputs[0][0]                \n",
            "__________________________________________________________________________________________________\n",
            "token_embedding_layer (Embeddin (None, 54, 128)      31739008    text_vectorization[1][0]         \n",
            "__________________________________________________________________________________________________\n",
            "char_embed (Embedding)          (None, 284, 25)      1750        char_vectorizer[0][0]            \n",
            "__________________________________________________________________________________________________\n",
            "bidirectional_1 (Bidirectional) (None, 80)           54080       token_embedding_layer[1][0]      \n",
            "__________________________________________________________________________________________________\n",
            "bidirectional_2 (Bidirectional) (None, 80)           21120       char_embed[0][0]                 \n",
            "__________________________________________________________________________________________________\n",
            "token_char_hybrid_embedding (Co (None, 160)          0           bidirectional_1[0][0]            \n",
            "                                                                 bidirectional_2[0][0]            \n",
            "__________________________________________________________________________________________________\n",
            "line_number_input (InputLayer)  [(None, 15)]         0                                            \n",
            "__________________________________________________________________________________________________\n",
            "total_line_input (InputLayer)   [(None, 20)]         0                                            \n",
            "__________________________________________________________________________________________________\n",
            "dropout (Dropout)               (None, 160)          0           token_char_hybrid_embedding[0][0]\n",
            "__________________________________________________________________________________________________\n",
            "dense (Dense)                   (None, 32)           512         line_number_input[0][0]          \n",
            "__________________________________________________________________________________________________\n",
            "dense_1 (Dense)                 (None, 32)           672         total_line_input[0][0]           \n",
            "__________________________________________________________________________________________________\n",
            "dense_2 (Dense)                 (None, 256)          41216       dropout[0][0]                    \n",
            "__________________________________________________________________________________________________\n",
            "char_token_positional_tribid_em (None, 320)          0           dense[0][0]                      \n",
            "                                                                 dense_1[0][0]                    \n",
            "                                                                 dense_2[0][0]                    \n",
            "__________________________________________________________________________________________________\n",
            "output_layer (Dense)            (None, 5)            1605        char_token_positional_tribid_embe\n",
            "==================================================================================================\n",
            "Total params: 31,859,963\n",
            "Trainable params: 31,859,963\n",
            "Non-trainable params: 0\n",
            "__________________________________________________________________________________________________\n"
          ],
          "name": "stdout"
        }
      ]
    },
    {
      "cell_type": "code",
      "metadata": {
        "colab": {
          "base_uri": "https://localhost:8080/",
          "height": 371
        },
        "id": "yv78TS6tHxov",
        "outputId": "d86e5505-cf61-4fc4-d43f-4d95f38336aa"
      },
      "source": [
        "# Plotting the above model \n",
        "from tensorflow.keras.utils import plot_model \n",
        "plot_model(model_1 , show_shapes = True)"
      ],
      "execution_count": 59,
      "outputs": [
        {
          "output_type": "execute_result",
          "data": {
            "image/png": "[encoded data removed]",
            "text/plain": [
              "<IPython.core.display.Image object>"
            ]
          },
          "metadata": {
            "tags": []
          },
          "execution_count": 59
        }
      ]
    },
    {
      "cell_type": "code",
      "metadata": {
        "id": "3M5pcKUER1wc"
      },
      "source": [
        "# Compiling the model \n",
        "model_1.compile(loss = tf.keras.losses.CategoricalCrossentropy(label_smoothing= 0.2) , \n",
        "                optimizer = tf.keras.optimizers.SGD() ,  # SGD because of the paper\n",
        "                metrics = ['accuracy'])"
      ],
      "execution_count": 60,
      "outputs": []
    },
    {
      "cell_type": "code",
      "metadata": {
        "colab": {
          "base_uri": "https://localhost:8080/"
        },
        "id": "gjGLzAotVq5U",
        "outputId": "13b838b2-23de-43aa-c1dc-d584789bfb14"
      },
      "source": [
        "# Fitting the model \n",
        "history_model_1 = model_1.fit(train_dataset , \n",
        "                              steps_per_epoch = len(train_datas et) , \n",
        "                              epochs = 5 ,  \n",
        "                              validation_data = val_dataset , \n",
        "                              validation_steps  = int(0.2 * len(val_dataset)))"
      ],
      "execution_count": 66,
      "outputs": [
        {
          "output_type": "stream",
          "text": [
            "Epoch 1/5\n",
            "69121/69121 [==============================] - 3292s 47ms/step - loss: 0.9822 - accuracy: 0.7972 - val_loss: 0.8917 - val_accuracy: 0.8641\n",
            "Epoch 2/5\n",
            "69121/69121 [==============================] - 3253s 47ms/step - loss: 0.8946 - accuracy: 0.8606 - val_loss: 0.8711 - val_accuracy: 0.8772\n",
            "Epoch 3/5\n",
            "69121/69121 [==============================] - 3254s 47ms/step - loss: 0.8813 - accuracy: 0.8670 - val_loss: 0.8635 - val_accuracy: 0.8826\n",
            "Epoch 4/5\n",
            "69121/69121 [==============================] - 3261s 47ms/step - loss: 0.8736 - accuracy: 0.8706 - val_loss: 0.8584 - val_accuracy: 0.8845\n",
            "Epoch 5/5\n",
            "69121/69121 [==============================] - 3299s 48ms/step - loss: 0.8686 - accuracy: 0.8731 - val_loss: 0.8560 - val_accuracy: 0.8840\n"
          ],
          "name": "stdout"
        }
      ]
    },
    {
      "cell_type": "code",
      "metadata": {
        "colab": {
          "base_uri": "https://localhost:8080/"
        },
        "id": "Ya-YzvKWad32",
        "outputId": "ab65aff4-a71c-4f8e-f601-13c25ab42da9"
      },
      "source": [
        "# Saving the model \n",
        "model_1.save('model_1/')"
      ],
      "execution_count": 67,
      "outputs": [
        {
          "output_type": "stream",
          "text": [
            "WARNING:absl:Found untraced functions such as lstm_cell_4_layer_call_fn, lstm_cell_4_layer_call_and_return_conditional_losses, lstm_cell_5_layer_call_fn, lstm_cell_5_layer_call_and_return_conditional_losses, lstm_cell_7_layer_call_fn while saving (showing 5 of 20). These functions will not be directly callable after loading.\n"
          ],
          "name": "stderr"
        },
        {
          "output_type": "stream",
          "text": [
            "INFO:tensorflow:Assets written to: model_1/assets\n"
          ],
          "name": "stdout"
        },
        {
          "output_type": "stream",
          "text": [
            "INFO:tensorflow:Assets written to: model_1/assets\n"
          ],
          "name": "stderr"
        }
      ]
    },
    {
      "cell_type": "code",
      "metadata": {
        "colab": {
          "base_uri": "https://localhost:8080/"
        },
        "id": "qZ22Z9cHaTWt",
        "outputId": "7ac98acc-a030-47c3-e549-97cd74cc283a"
      },
      "source": [
        "# from google.colab import drive \n",
        "# drive.mount('/content/drive/')"
      ],
      "execution_count": 68,
      "outputs": [
        {
          "output_type": "stream",
          "text": [
            "Mounted at /content/drive/\n"
          ],
          "name": "stdout"
        }
      ]
    },
    {
      "cell_type": "code",
      "metadata": {
        "id": "ggh8YPeGa51f"
      },
      "source": [
        "# # Moving the saved model to my Drive \n",
        "# !mv 'model_1' '/content/drive/MyDrive/'"
      ],
      "execution_count": 69,
      "outputs": []
    },
    {
      "cell_type": "code",
      "metadata": {
        "colab": {
          "base_uri": "https://localhost:8080/"
        },
        "id": "WXszDvA5bJWo",
        "outputId": "a6500d29-f10e-4989-f809-186f71015fb3"
      },
      "source": [
        "# Loading the model \n",
        "loaded_model_1 = tf.keras.models.load_model('/content/drive/MyDrive/model_1/')\n",
        "\n",
        "# Summary of the model \n",
        "loaded_model_1.summary()"
      ],
      "execution_count": 71,
      "outputs": [
        {
          "output_type": "stream",
          "text": [
            "Model: \"model_5\"\n",
            "__________________________________________________________________________________________________\n",
            "Layer (type)                    Output Shape         Param #     Connected to                     \n",
            "==================================================================================================\n",
            "token_inputs (InputLayer)       [(None, 1)]          0                                            \n",
            "__________________________________________________________________________________________________\n",
            "char_inputs (InputLayer)        [(None, 1)]          0                                            \n",
            "__________________________________________________________________________________________________\n",
            "text_vectorization (TextVectori (None, 54)           0           token_inputs[0][0]               \n",
            "__________________________________________________________________________________________________\n",
            "char_vectorizer (TextVectorizat (None, 284)          0           char_inputs[0][0]                \n",
            "__________________________________________________________________________________________________\n",
            "token_embedding_layer (Embeddin (None, 54, 128)      31739008    text_vectorization[0][0]         \n",
            "__________________________________________________________________________________________________\n",
            "char_embed (Embedding)          (None, 284, 25)      1750        char_vectorizer[0][0]            \n",
            "__________________________________________________________________________________________________\n",
            "bidirectional_1 (Bidirectional) (None, 80)           54080       token_embedding_layer[0][0]      \n",
            "__________________________________________________________________________________________________\n",
            "bidirectional_2 (Bidirectional) (None, 80)           21120       char_embed[0][0]                 \n",
            "__________________________________________________________________________________________________\n",
            "token_char_hybrid_embedding (Co (None, 160)          0           bidirectional_1[0][0]            \n",
            "                                                                 bidirectional_2[0][0]            \n",
            "__________________________________________________________________________________________________\n",
            "line_number_input (InputLayer)  [(None, 15)]         0                                            \n",
            "__________________________________________________________________________________________________\n",
            "total_line_input (InputLayer)   [(None, 20)]         0                                            \n",
            "__________________________________________________________________________________________________\n",
            "dropout (Dropout)               (None, 160)          0           token_char_hybrid_embedding[0][0]\n",
            "__________________________________________________________________________________________________\n",
            "dense (Dense)                   (None, 32)           512         line_number_input[0][0]          \n",
            "__________________________________________________________________________________________________\n",
            "dense_1 (Dense)                 (None, 32)           672         total_line_input[0][0]           \n",
            "__________________________________________________________________________________________________\n",
            "dense_2 (Dense)                 (None, 256)          41216       dropout[0][0]                    \n",
            "__________________________________________________________________________________________________\n",
            "char_token_positional_tribid_em (None, 320)          0           dense[0][0]                      \n",
            "                                                                 dense_1[0][0]                    \n",
            "                                                                 dense_2[0][0]                    \n",
            "__________________________________________________________________________________________________\n",
            "output_layer (Dense)            (None, 5)            1605        char_token_positional_tribid_embe\n",
            "==================================================================================================\n",
            "Total params: 31,859,963\n",
            "Trainable params: 31,859,963\n",
            "Non-trainable params: 0\n",
            "__________________________________________________________________________________________________\n"
          ],
          "name": "stdout"
        }
      ]
    },
    {
      "cell_type": "code",
      "metadata": {
        "colab": {
          "base_uri": "https://localhost:8080/"
        },
        "id": "cJxZApo0bcbz",
        "outputId": "268475bb-8e37-4215-e118-fe84c280ff09"
      },
      "source": [
        "for layer in loaded_model_1.layers:\n",
        "  print(layer.name , layer.dtype)"
      ],
      "execution_count": 72,
      "outputs": [
        {
          "output_type": "stream",
          "text": [
            "token_inputs string\n",
            "char_inputs string\n",
            "text_vectorization string\n",
            "char_vectorizer string\n",
            "token_embedding_layer float32\n",
            "char_embed float32\n",
            "bidirectional_1 float32\n",
            "bidirectional_2 float32\n",
            "token_char_hybrid_embedding float32\n",
            "line_number_input int32\n",
            "total_line_input int32\n",
            "dropout float32\n",
            "dense float32\n",
            "dense_1 float32\n",
            "dense_2 float32\n",
            "char_token_positional_tribid_embedding float32\n",
            "output_layer float32\n"
          ],
          "name": "stdout"
        }
      ]
    },
    {
      "cell_type": "code",
      "metadata": {
        "colab": {
          "base_uri": "https://localhost:8080/"
        },
        "id": "5PWAAadybqY3",
        "outputId": "7d9fb4f2-87b8-488f-d135-4261e04fa367"
      },
      "source": [
        " # Parsing out the text vectorization layer \n",
        " loaded_text_vectorizer = loaded_model_1.layers[2]\n",
        " loaded_text_vectorizer"
      ],
      "execution_count": 73,
      "outputs": [
        {
          "output_type": "execute_result",
          "data": {
            "text/plain": [
              "<tensorflow.python.keras.layers.preprocessing.text_vectorization.TextVectorization at 0x7f6cbf8c09d0>"
            ]
          },
          "metadata": {
            "tags": []
          },
          "execution_count": 73
        }
      ]
    },
    {
      "cell_type": "code",
      "metadata": {
        "colab": {
          "base_uri": "https://localhost:8080/"
        },
        "id": "dECx2e8Db2Sg",
        "outputId": "e3f08589-584c-4024-c7ac-83a8e1fde221"
      },
      "source": [
        "text_vectorizer.get_config() , loaded_text_vectorizer.get_config()"
      ],
      "execution_count": 75,
      "outputs": [
        {
          "output_type": "execute_result",
          "data": {
            "text/plain": [
              "({'dtype': 'string',\n",
              "  'max_tokens': 331000,\n",
              "  'name': 'text_vectorization',\n",
              "  'ngrams': None,\n",
              "  'output_mode': 'int',\n",
              "  'output_sequence_length': 54,\n",
              "  'pad_to_max_tokens': False,\n",
              "  'split': 'whitespace',\n",
              "  'standardize': 'lower_and_strip_punctuation',\n",
              "  'trainable': True,\n",
              "  'vocabulary_size': 247961},\n",
              " {'dtype': 'string',\n",
              "  'max_tokens': 331000,\n",
              "  'name': 'text_vectorization',\n",
              "  'ngrams': None,\n",
              "  'output_mode': 'int',\n",
              "  'output_sequence_length': 54,\n",
              "  'pad_to_max_tokens': False,\n",
              "  'split': 'whitespace',\n",
              "  'standardize': 'lower_and_strip_punctuation',\n",
              "  'trainable': True,\n",
              "  'vocabulary_size': 247961})"
            ]
          },
          "metadata": {
            "tags": []
          },
          "execution_count": 75
        }
      ]
    },
    {
      "cell_type": "code",
      "metadata": {
        "id": "UsE_wNuOb39e"
      },
      "source": [
        ""
      ],
      "execution_count": null,
      "outputs": []
    }
  ]
}